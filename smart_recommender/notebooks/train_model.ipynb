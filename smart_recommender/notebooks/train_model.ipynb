{
 "cells": [
  {
   "cell_type": "code",
   "execution_count": 2,
   "id": "c31e865d",
   "metadata": {},
   "outputs": [
    {
     "name": "stdout",
     "output_type": "stream",
     "text": [
      "Dataset loaded successfully.\n",
      "\n",
      "Data cleaning complete.\n",
      "\n"
     ]
    }
   ],
   "source": [
    "import pandas as pd\n",
    "import numpy as np\n",
    "from sklearn.cluster import KMeans\n",
    "from sklearn.preprocessing import StandardScaler\n",
    "import joblib\n",
    "import warnings\n",
    "\n",
    "warnings.filterwarnings('ignore')\n",
    "\n",
    "df = pd.read_csv('../data/online_retail.csv', encoding='ISO-8859-1', low_memory=False)\n",
    "print(\"Dataset loaded successfully.\\n\")\n",
    "\n",
    "df.dropna(axis=0, subset=['CustomerID'], inplace=True)\n",
    "df['CustomerID'] = df['CustomerID'].astype(int)\n",
    "df['InvoiceDate'] = pd.to_datetime(df['InvoiceDate'])\n",
    "\n",
    "# Remove returns/cancelled orders\n",
    "df = df[~df['InvoiceNo'].astype(str).str.startswith('C')]\n",
    "\n",
    "# Calculate the total price for each transaction\n",
    "df['TotalPrice'] = df['Quantity'] * df['UnitPrice']\n",
    "print(\"Data cleaning complete.\\n\")\n"
   ]
  },
  {
   "cell_type": "code",
   "execution_count": 7,
   "id": "7e6dce8a",
   "metadata": {},
   "outputs": [
    {
     "name": "stdout",
     "output_type": "stream",
     "text": [
      "Customer segmentation complete. Found 4 distinct customer groups.\n",
      "             Recency  Frequency  MonetaryValue  Cluster\n",
      "CustomerID                                            \n",
      "12346           326          1       77183.60        0\n",
      "12347             2          7        4310.00        3\n",
      "12348            75          4        1797.24        3\n",
      "12349            19          1        1757.55        3\n",
      "12350           310          1         334.40        1\n",
      "...             ...        ...            ...      ...\n",
      "18280           278          1         180.60        1\n",
      "18281           181          1          80.82        1\n",
      "18282             8          2         178.05        3\n",
      "18283             4         16        2094.88        0\n",
      "18287            43          3        1837.28        3\n",
      "\n",
      "[4339 rows x 4 columns]\n"
     ]
    }
   ],
   "source": [
    "\n",
    "# Customer Segmentation (Unsupervised Learning with K-Means)\n",
    "\n",
    "\n",
    "# Feature Engineering for Clustering (RFM Analysis)\n",
    "snapshot_date = df['InvoiceDate'].max() + pd.Timedelta(days=1)\n",
    "\n",
    "rfm_df = df.groupby(['CustomerID']).agg({\n",
    "    'InvoiceDate': lambda x: (snapshot_date - x.max()).days, # Recency\n",
    "    'InvoiceNo': 'nunique',                                   # Frequency\n",
    "    'TotalPrice': 'sum'                                       # Monetary Value\n",
    "}).rename(columns={'InvoiceDate': 'Recency', 'InvoiceNo': 'Frequency', 'TotalPrice': 'MonetaryValue'})\n",
    "\n",
    "scaler = StandardScaler()\n",
    "rfm_scaled = scaler.fit_transform(rfm_df)\n",
    "\n",
    "optimal_k = 4\n",
    "kmeans = KMeans(n_clusters=optimal_k, random_state=42, n_init=10)\n",
    "kmeans.fit(rfm_scaled)\n",
    "\n",
    "# cluster labels back to the customer dataframe\n",
    "rfm_df['Cluster'] = kmeans.labels_\n",
    "print(f\"Customer segmentation complete. Found 4 distinct customer groups.\\n\",rfm_df)\n"
   ]
  },
  {
   "cell_type": "code",
   "execution_count": 8,
   "id": "16ac5894",
   "metadata": {},
   "outputs": [
    {
     "name": "stdout",
     "output_type": "stream",
     "text": [
      "\n",
      " Data files saved successfully :\n",
      "- recommendation_data.pkl\n",
      "- customer_segments.pkl\n"
     ]
    }
   ],
   "source": [
    "\n",
    "# Final Data for the Recommendation App\n",
    "\n",
    "\n",
    "# Merging and Saving \n",
    "rfm_df.reset_index(inplace=True) \n",
    "df_final = pd.merge(df, rfm_df[['CustomerID', 'Cluster']], on='CustomerID', how='left')\n",
    "\n",
    "# columns needed for the recommendation logic\n",
    "recommendation_data = df_final[['CustomerID', 'StockCode', 'Description', 'Cluster']]\n",
    "recommendation_data = recommendation_data.drop_duplicates()\n",
    "\n",
    "# Save the Final Data Files\n",
    "joblib.dump(recommendation_data, '../recommendation_data.pkl')\n",
    "joblib.dump(rfm_df, '../customer_segments.pkl')\n",
    "\n",
    "print(\"\\n Data files saved successfully :\")\n",
    "print(\"- recommendation_data.pkl\")\n",
    "print(\"- customer_segments.pkl\")\n",
    "\n"
   ]
  },
  {
   "cell_type": "code",
   "execution_count": null,
   "id": "90b81061",
   "metadata": {},
   "outputs": [],
   "source": []
  }
 ],
 "metadata": {
  "kernelspec": {
   "display_name": ".venv (3.13.7)",
   "language": "python",
   "name": "python3"
  },
  "language_info": {
   "codemirror_mode": {
    "name": "ipython",
    "version": 3
   },
   "file_extension": ".py",
   "mimetype": "text/x-python",
   "name": "python",
   "nbconvert_exporter": "python",
   "pygments_lexer": "ipython3",
   "version": "3.13.7"
  }
 },
 "nbformat": 4,
 "nbformat_minor": 5
}
